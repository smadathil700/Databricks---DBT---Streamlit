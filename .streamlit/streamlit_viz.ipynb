{
 "cells": [
  {
   "cell_type": "code",
   "execution_count": 2,
   "id": "28e8719a",
   "metadata": {},
   "outputs": [],
   "source": [
    "import streamlit as st\n",
    "import plotly.graph_objects as go"
   ]
  },
  {
   "cell_type": "code",
   "execution_count": 3,
   "id": "3fab4182",
   "metadata": {},
   "outputs": [],
   "source": [
    "import pandas as pd\n",
    "import altair as alt\n",
    "from databricks import sql"
   ]
  },
  {
   "cell_type": "code",
   "execution_count": 5,
   "id": "41334c6d",
   "metadata": {},
   "outputs": [],
   "source": [
    "# ---------------------------\n",
    "# 1. Databricks Connection\n",
    "# ---------------------------\n",
    "# Replace with your credentials or set them in Streamlit secrets\n",
    "DATABRICKS_SERVER = st.secrets[\"databricks\"][\"server_hostname\"]\n",
    "DATABRICKS_HTTP_PATH = st.secrets[\"databricks\"][\"http_path\"]\n",
    "DATABRICKS_TOKEN = st.secrets[\"databricks\"][\"token\"]"
   ]
  },
  {
   "cell_type": "code",
   "execution_count": 6,
   "id": "8b121996",
   "metadata": {},
   "outputs": [],
   "source": [
    "def query_databricks(sql_query):\n",
    "    with sql.connect(\n",
    "        server_hostname=DATABRICKS_SERVER,\n",
    "        http_path=DATABRICKS_HTTP_PATH,\n",
    "        access_token=DATABRICKS_TOKEN\n",
    "    ) as connection:\n",
    "        with connection.cursor() as cursor:\n",
    "            cursor.execute(sql_query)\n",
    "            result = cursor.fetchall()\n",
    "            columns = [desc[0] for desc in cursor.description]\n",
    "            return pd.DataFrame(result, columns=columns)\n"
   ]
  },
  {
   "cell_type": "code",
   "execution_count": 7,
   "id": "48188515",
   "metadata": {},
   "outputs": [
    {
     "name": "stderr",
     "output_type": "stream",
     "text": [
      "2025-08-26 17:49:19.920 Thread 'MainThread': missing ScriptRunContext! This warning can be ignored when running in bare mode.\n",
      "2025-08-26 17:49:19.924 Thread 'MainThread': missing ScriptRunContext! This warning can be ignored when running in bare mode.\n",
      "2025-08-26 17:49:20.437 \n",
      "  \u001b[33m\u001b[1mWarning:\u001b[0m to view this Streamlit app on a browser, run it with the following\n",
      "  command:\n",
      "\n",
      "    streamlit run c:\\Users\\SarigaMadathil\\OneDrive - ROKO Labs LLC\\Projects\\Growth Analytics\\.venv\\Lib\\site-packages\\ipykernel_launcher.py [ARGUMENTS]\n",
      "2025-08-26 17:49:20.439 Thread 'MainThread': missing ScriptRunContext! This warning can be ignored when running in bare mode.\n",
      "2025-08-26 17:49:20.441 Thread 'MainThread': missing ScriptRunContext! This warning can be ignored when running in bare mode.\n",
      "2025-08-26 17:49:20.443 Thread 'MainThread': missing ScriptRunContext! This warning can be ignored when running in bare mode.\n",
      "2025-08-26 17:49:20.447 Thread 'MainThread': missing ScriptRunContext! This warning can be ignored when running in bare mode.\n",
      "2025-08-26 17:49:20.448 Thread 'MainThread': missing ScriptRunContext! This warning can be ignored when running in bare mode.\n",
      "2025-08-26 17:49:20.452 Thread 'MainThread': missing ScriptRunContext! This warning can be ignored when running in bare mode.\n",
      "2025-08-26 17:49:20.454 Thread 'MainThread': missing ScriptRunContext! This warning can be ignored when running in bare mode.\n",
      "2025-08-26 17:49:20.457 Thread 'MainThread': missing ScriptRunContext! This warning can be ignored when running in bare mode.\n"
     ]
    }
   ],
   "source": [
    "# ---------------------------\n",
    "# 2. App Header & Filters\n",
    "# ---------------------------\n",
    "st.set_page_config(page_title=\"E-commerce Analytics Dashboard\", layout=\"wide\")\n",
    "st.title(\"E-commerce Analytics Dashboard\")\n",
    "\n",
    "# Example: Device filter\n",
    "device_filter = st.multiselect(\n",
    "    \"Select Device Type(s):\",\n",
    "    [\"Desktop\", \"Mobile\", \"Tablet\"],\n",
    "    default=[\"Desktop\", \"Mobile\", \"Tablet\"]\n",
    ")"
   ]
  },
  {
   "cell_type": "code",
   "execution_count": 8,
   "id": "4d327a9b",
   "metadata": {},
   "outputs": [
    {
     "name": "stderr",
     "output_type": "stream",
     "text": [
      "2025-08-26 18:03:39.110 Thread 'MainThread': missing ScriptRunContext! This warning can be ignored when running in bare mode.\n",
      "2025-08-26 18:03:39.111 Thread 'MainThread': missing ScriptRunContext! This warning can be ignored when running in bare mode.\n",
      "2025-08-26 18:03:39.111 Thread 'MainThread': missing ScriptRunContext! This warning can be ignored when running in bare mode.\n",
      "2025-08-26 18:04:04.518 Thread 'MainThread': missing ScriptRunContext! This warning can be ignored when running in bare mode.\n",
      "2025-08-26 18:04:04.520 Thread 'MainThread': missing ScriptRunContext! This warning can be ignored when running in bare mode.\n",
      "2025-08-26 18:04:04.521 Thread 'MainThread': missing ScriptRunContext! This warning can be ignored when running in bare mode.\n",
      "2025-08-26 18:04:04.522 Thread 'MainThread': missing ScriptRunContext! This warning can be ignored when running in bare mode.\n",
      "2025-08-26 18:04:04.527 Thread 'MainThread': missing ScriptRunContext! This warning can be ignored when running in bare mode.\n",
      "2025-08-26 18:04:04.528 Thread 'MainThread': missing ScriptRunContext! This warning can be ignored when running in bare mode.\n",
      "2025-08-26 18:04:04.530 Thread 'MainThread': missing ScriptRunContext! This warning can be ignored when running in bare mode.\n",
      "2025-08-26 18:04:04.533 Thread 'MainThread': missing ScriptRunContext! This warning can be ignored when running in bare mode.\n",
      "2025-08-26 18:04:04.535 Thread 'MainThread': missing ScriptRunContext! This warning can be ignored when running in bare mode.\n",
      "2025-08-26 18:04:04.536 Thread 'MainThread': missing ScriptRunContext! This warning can be ignored when running in bare mode.\n",
      "2025-08-26 18:04:04.538 Thread 'MainThread': missing ScriptRunContext! This warning can be ignored when running in bare mode.\n",
      "2025-08-26 18:04:04.540 Thread 'MainThread': missing ScriptRunContext! This warning can be ignored when running in bare mode.\n",
      "2025-08-26 18:04:04.544 Thread 'MainThread': missing ScriptRunContext! This warning can be ignored when running in bare mode.\n"
     ]
    },
    {
     "data": {
      "text/plain": [
       "DeltaGenerator()"
      ]
     },
     "execution_count": 8,
     "metadata": {},
     "output_type": "execute_result"
    }
   ],
   "source": [
    "# ---------------------------\n",
    "# 3. Key Metrics (Cart Abandonment & Revenue)\n",
    "# ---------------------------\n",
    "st.header(\"Key Metrics\")\n",
    "\n",
    "# SQL queries (replace with your actual table names)\n",
    "cart_query = \"SELECT cart_abandonment_rate FROM cart_abandonment LIMIT 1\"\n",
    "revenue_query = \"SELECT total_revenue, average_order_value FROM Revenue LIMIT 1\"\n",
    "\n",
    "cart_df = query_databricks(cart_query)\n",
    "revenue_df = query_databricks(revenue_query)\n",
    "\n",
    "cart_abandonment_rate = cart_df[\"cart_abandonment_rate\"].iloc[0]\n",
    "total_revenue = revenue_df[\"total_revenue\"].iloc[0]\n",
    "average_order_value = revenue_df[\"average_order_value\"].iloc[0]\n",
    "\n",
    "col1, col2, col3 = st.columns(3)\n",
    "col1.metric(\"Cart Abandonment Rate\", f\"{cart_abandonment_rate*100:.1f}%\")\n",
    "col2.metric(\"Total Revenue\", f\"${total_revenue:,.0f}\")\n",
    "col3.metric(\"Average Order Value\", f\"${average_order_value:.2f}\")\n"
   ]
  },
  {
   "cell_type": "code",
   "execution_count": 9,
   "id": "4a4aae01",
   "metadata": {},
   "outputs": [
    {
     "name": "stderr",
     "output_type": "stream",
     "text": [
      "2025-08-26 18:06:59.977 Thread 'MainThread': missing ScriptRunContext! This warning can be ignored when running in bare mode.\n",
      "2025-08-26 18:06:59.980 Thread 'MainThread': missing ScriptRunContext! This warning can be ignored when running in bare mode.\n",
      "2025-08-26 18:06:59.984 Thread 'MainThread': missing ScriptRunContext! This warning can be ignored when running in bare mode.\n",
      "c:\\Users\\SarigaMadathil\\OneDrive - ROKO Labs LLC\\Projects\\Growth Analytics\\.venv\\Lib\\site-packages\\altair\\utils\\core.py:264: UserWarning: I don't know how to infer vegalite type from 'empty'.  Defaulting to nominal.\n",
      "  warnings.warn(\n",
      "c:\\Users\\SarigaMadathil\\OneDrive - ROKO Labs LLC\\Projects\\Growth Analytics\\.venv\\Lib\\site-packages\\altair\\utils\\core.py:264: UserWarning: I don't know how to infer vegalite type from 'empty'.  Defaulting to nominal.\n",
      "  warnings.warn(\n",
      "2025-08-26 18:07:02.557 Thread 'MainThread': missing ScriptRunContext! This warning can be ignored when running in bare mode.\n",
      "2025-08-26 18:07:02.557 Thread 'MainThread': missing ScriptRunContext! This warning can be ignored when running in bare mode.\n",
      "2025-08-26 18:07:02.558 Thread 'MainThread': missing ScriptRunContext! This warning can be ignored when running in bare mode.\n"
     ]
    },
    {
     "data": {
      "text/plain": [
       "DeltaGenerator()"
      ]
     },
     "execution_count": 9,
     "metadata": {},
     "output_type": "execute_result"
    }
   ],
   "source": [
    "# ---------------------------\n",
    "# 4. Device Type Performance\n",
    "# ---------------------------\n",
    "st.header(\"Device Type Performance\")\n",
    "\n",
    "device_query = \"\"\"\n",
    "SELECT device_type, purchases, sessions, conversion_rate\n",
    "FROM device_types\n",
    "\"\"\"\n",
    "device_df = query_databricks(device_query)\n",
    "filtered_df = device_df[device_df[\"device_type\"].isin(device_filter)]\n",
    "\n",
    "device_chart = alt.Chart(filtered_df).mark_bar().encode(\n",
    "    x=\"device_type\",\n",
    "    y=\"purchases\",\n",
    "    color=\"device_type\",\n",
    "    tooltip=[\"sessions\", \"purchases\", \"conversion_rate\"]\n",
    ").properties(width=500)\n",
    "\n",
    "st.altair_chart(device_chart, use_container_width=True)\n"
   ]
  },
  {
   "cell_type": "code",
   "execution_count": 10,
   "id": "42cff55e",
   "metadata": {},
   "outputs": [
    {
     "name": "stderr",
     "output_type": "stream",
     "text": [
      "2025-08-26 18:07:17.920 Thread 'MainThread': missing ScriptRunContext! This warning can be ignored when running in bare mode.\n",
      "2025-08-26 18:07:17.923 Thread 'MainThread': missing ScriptRunContext! This warning can be ignored when running in bare mode.\n",
      "2025-08-26 18:07:17.926 Thread 'MainThread': missing ScriptRunContext! This warning can be ignored when running in bare mode.\n",
      "2025-08-26 18:07:20.006 Serialization of dataframe to Arrow table was unsuccessful. Applying automatic fixes for column types to make the dataframe Arrow-compatible.\n",
      "Traceback (most recent call last):\n",
      "  File \"c:\\Users\\SarigaMadathil\\OneDrive - ROKO Labs LLC\\Projects\\Growth Analytics\\.venv\\Lib\\site-packages\\streamlit\\dataframe_util.py\", line 821, in convert_pandas_df_to_arrow_bytes\n",
      "    table = pa.Table.from_pandas(df)\n",
      "            ^^^^^^^^^^^^^^^^^^^^^^^^\n",
      "  File \"pyarrow\\\\table.pxi\", line 4793, in pyarrow.lib.Table.from_pandas\n",
      "  File \"c:\\Users\\SarigaMadathil\\OneDrive - ROKO Labs LLC\\Projects\\Growth Analytics\\.venv\\Lib\\site-packages\\pyarrow\\pandas_compat.py\", line 639, in dataframe_to_arrays\n",
      "    arrays = [convert_column(c, f)\n",
      "             ^^^^^^^^^^^^^^^^^^^^^\n",
      "  File \"c:\\Users\\SarigaMadathil\\OneDrive - ROKO Labs LLC\\Projects\\Growth Analytics\\.venv\\Lib\\site-packages\\pyarrow\\pandas_compat.py\", line 639, in <listcomp>\n",
      "    arrays = [convert_column(c, f)\n",
      "              ^^^^^^^^^^^^^^^^^^^^\n",
      "  File \"c:\\Users\\SarigaMadathil\\OneDrive - ROKO Labs LLC\\Projects\\Growth Analytics\\.venv\\Lib\\site-packages\\pyarrow\\pandas_compat.py\", line 626, in convert_column\n",
      "    raise e\n",
      "  File \"c:\\Users\\SarigaMadathil\\OneDrive - ROKO Labs LLC\\Projects\\Growth Analytics\\.venv\\Lib\\site-packages\\pyarrow\\pandas_compat.py\", line 620, in convert_column\n",
      "    result = pa.array(col, type=type_, from_pandas=True, safe=safe)\n",
      "             ^^^^^^^^^^^^^^^^^^^^^^^^^^^^^^^^^^^^^^^^^^^^^^^^^^^^^^\n",
      "  File \"pyarrow\\\\array.pxi\", line 365, in pyarrow.lib.array\n",
      "  File \"pyarrow\\\\array.pxi\", line 90, in pyarrow.lib._ndarray_to_array\n",
      "  File \"pyarrow\\\\error.pxi\", line 92, in pyarrow.lib.check_status\n",
      "pyarrow.lib.ArrowInvalid: ('Decimal type with precision 5 does not fit into precision inferred from first array element: 4', 'Conversion failed for column value with type object')\n",
      "2025-08-26 18:07:20.066 Thread 'MainThread': missing ScriptRunContext! This warning can be ignored when running in bare mode.\n",
      "2025-08-26 18:07:20.068 Thread 'MainThread': missing ScriptRunContext! This warning can be ignored when running in bare mode.\n",
      "2025-08-26 18:07:20.069 Thread 'MainThread': missing ScriptRunContext! This warning can be ignored when running in bare mode.\n"
     ]
    },
    {
     "data": {
      "text/plain": [
       "DeltaGenerator()"
      ]
     },
     "execution_count": 10,
     "metadata": {},
     "output_type": "execute_result"
    }
   ],
   "source": [
    "# ---------------------------\n",
    "# 5. Funnel Analysis\n",
    "# ---------------------------\n",
    "st.header(\"Funnel Analysis\")\n",
    "\n",
    "funnel_query = \"\"\"\n",
    "SELECT website_visits, product_views, add_to_cart, purchases, conversion_rate, drop_off, drop_off_rate\n",
    "FROM funnel_analysis\n",
    "LIMIT 1\n",
    "\"\"\"\n",
    "funnel_df = query_databricks(funnel_query).T.reset_index()\n",
    "funnel_df.columns = [\"stage\", \"value\"]\n",
    "\n",
    "funnel_chart = alt.Chart(funnel_df).mark_bar().encode(\n",
    "    x=\"stage\",\n",
    "    y=\"value\",\n",
    "    color=\"stage\",\n",
    "    tooltip=[\"value\"]\n",
    ").properties(width=600)\n",
    "\n",
    "st.altair_chart(funnel_chart, use_container_width=True)\n"
   ]
  },
  {
   "cell_type": "code",
   "execution_count": 11,
   "id": "20003d1d",
   "metadata": {},
   "outputs": [
    {
     "name": "stderr",
     "output_type": "stream",
     "text": [
      "2025-08-26 18:07:38.441 Thread 'MainThread': missing ScriptRunContext! This warning can be ignored when running in bare mode.\n",
      "2025-08-26 18:07:38.445 Thread 'MainThread': missing ScriptRunContext! This warning can be ignored when running in bare mode.\n",
      "2025-08-26 18:07:38.448 Thread 'MainThread': missing ScriptRunContext! This warning can be ignored when running in bare mode.\n",
      "2025-08-26 18:07:40.250 Thread 'MainThread': missing ScriptRunContext! This warning can be ignored when running in bare mode.\n",
      "2025-08-26 18:07:40.251 Thread 'MainThread': missing ScriptRunContext! This warning can be ignored when running in bare mode.\n",
      "2025-08-26 18:07:40.253 Thread 'MainThread': missing ScriptRunContext! This warning can be ignored when running in bare mode.\n"
     ]
    },
    {
     "data": {
      "text/plain": [
       "DeltaGenerator()"
      ]
     },
     "execution_count": 11,
     "metadata": {},
     "output_type": "execute_result"
    }
   ],
   "source": [
    "# ---------------------------\n",
    "# 6. Exit & Session Insights\n",
    "# ---------------------------\n",
    "st.header(\"Exit & Session Insights\")\n",
    "\n",
    "exit_query = \"\"\"\n",
    "SELECT purchase, avg_bounce_rates, avg_exit_rates\n",
    "FROM exit_rates\n",
    "\"\"\"\n",
    "exit_df = query_databricks(exit_query)\n",
    "\n",
    "exit_chart = alt.Chart(exit_df).mark_circle(size=200).encode(\n",
    "    x=\"avg_bounce_rates\",\n",
    "    y=\"avg_exit_rates\",\n",
    "    color=\"purchase\",\n",
    "    tooltip=[\"avg_bounce_rates\", \"avg_exit_rates\"]\n",
    ")\n",
    "\n",
    "st.altair_chart(exit_chart, use_container_width=True)"
   ]
  }
 ],
 "metadata": {
  "kernelspec": {
   "display_name": ".venv",
   "language": "python",
   "name": "python3"
  },
  "language_info": {
   "codemirror_mode": {
    "name": "ipython",
    "version": 3
   },
   "file_extension": ".py",
   "mimetype": "text/x-python",
   "name": "python",
   "nbconvert_exporter": "python",
   "pygments_lexer": "ipython3",
   "version": "3.11.7"
  }
 },
 "nbformat": 4,
 "nbformat_minor": 5
}
